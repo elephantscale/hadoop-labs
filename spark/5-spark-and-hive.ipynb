{
 "cells": [
  {
   "cell_type": "markdown",
   "metadata": {},
   "source": [
    "<link rel='stylesheet' href='../assets/css/main.css'/>\n",
    "\n",
    "# 4.4: Spark And Hive\n",
    "\n",
    "\n",
    "<img src=\"../images/spark-and-hadoop-1.png\" style=\"border: 5px solid grey ; max-\n",
    "width:100%;\" />\n",
    "\n",
    "<img src=\"../images/spark-and-hadoop-2.png\" style=\"border: 5px solid grey ; max-\n",
    "width:100%;\" />\n",
    "\n",
    "\n",
    "## Step 1 : Open Two Terminal Sessions to Hadoop Node\n",
    "Instructor will demonstrate how.\n",
    "\n",
    "## Step 2 : In Terminal 1 : Start Hive Shell"
   ]
  },
  {
   "cell_type": "code",
   "execution_count": null,
   "metadata": {
    "collapsed": true
   },
   "outputs": [],
   "source": [
    "```bash\n",
    "    $   hive\n",
    "```"
   ]
  },
  {
   "cell_type": "markdown",
   "metadata": {},
   "source": [
    "Inspect the tables and run a query on 'clickstream' table."
   ]
  },
  {
   "cell_type": "code",
   "execution_count": null,
   "metadata": {
    "attributes": {
     "classes": [
      "sql"
     ],
     "id": ""
    },
    "collapsed": true
   },
   "outputs": [],
   "source": [
    "```sql\n",
    "  hive>\n",
    "        show tables;\n",
    "\n",
    "        select * from clickstream limit 10;\n",
    "\n",
    "        select action, count(*) as total from clickstream group by action;\n",
    "```"
   ]
  },
  {
   "cell_type": "markdown",
   "metadata": {},
   "source": [
    "## Step 3 : In Terminal 2 Start Spark shell"
   ]
  },
  {
   "cell_type": "code",
   "execution_count": null,
   "metadata": {
    "collapsed": true
   },
   "outputs": [],
   "source": [
    "```bash\n",
    "    $    pyspark\n",
    "```"
   ]
  },
  {
   "cell_type": "markdown",
   "metadata": {},
   "source": [
    "Type this in Spark Shell"
   ]
  },
  {
   "cell_type": "code",
   "execution_count": null,
   "metadata": {
    "collapsed": true
   },
   "outputs": [],
   "source": [
    "sc.setLogLevel(\"WARN\")"
   ]
  },
  {
   "cell_type": "markdown",
   "metadata": {},
   "source": [
    "Go to http://localhost:4040 in the browser.\n",
    "\n",
    "\n",
    "## Step 4 : Inspect Hive Tables\n",
    "Do this in pyspark"
   ]
  },
  {
   "cell_type": "code",
   "execution_count": null,
   "metadata": {
    "attributes": {
     "classes": [
      "scala"
     ],
     "id": ""
    },
    "collapsed": true
   },
   "outputs": [],
   "source": [
    "#hive top level tables\n",
    "sqlContext.tableNames\n",
    "t = sqlContext.table(\"clickstream\")\n",
    "t.printSchema()\n",
    "t.show()\n",
    "sqlContext.sql(\"select * from clickstream limit 10\").show()\n",
    "sqlContext.sql(\"select action, count(*) as total from clickstream group by action\").show()\n",
    "\n",
    "#accessing Hive databases (access using DBName.TabeName)\n",
    "#TODO : fix 'db_name' accordingly\n",
    "t2 = sqlContext.table(\"db_name.transactions\")\n",
    "t2.printSchema()\n",
    "t2.show()\n",
    "sqlContext.sql(\"select * from db_name.transactions limit 10\").show()\n"
   ]
  }
 ],
 "metadata": {
  "kernelspec": {
   "display_name": "Python 3",
   "language": "python",
   "name": "python3"
  },
  "language_info": {
   "codemirror_mode": {
    "name": "ipython",
    "version": 3
   },
   "file_extension": ".py",
   "mimetype": "text/x-python",
   "name": "python",
   "nbconvert_exporter": "python",
   "pygments_lexer": "ipython3",
   "version": "3.5.2"
  }
 },
 "nbformat": 4,
 "nbformat_minor": 0
}
